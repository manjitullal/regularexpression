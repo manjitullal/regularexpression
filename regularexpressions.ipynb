{
  "nbformat": 4,
  "nbformat_minor": 0,
  "metadata": {
    "colab": {
      "name": "regularexpressions.ipynb",
      "provenance": [],
      "authorship_tag": "ABX9TyO4IX/QQ+Kls+sykrzCzHD0",
      "include_colab_link": true
    },
    "kernelspec": {
      "name": "python3",
      "display_name": "Python 3"
    }
  },
  "cells": [
    {
      "cell_type": "markdown",
      "metadata": {
        "id": "view-in-github",
        "colab_type": "text"
      },
      "source": [
        "<a href=\"https://colab.research.google.com/github/manjitullal/regularexpression/blob/main/regularexpressions.ipynb\" target=\"_parent\"><img src=\"https://colab.research.google.com/assets/colab-badge.svg\" alt=\"Open In Colab\"/></a>"
      ]
    },
    {
      "cell_type": "code",
      "metadata": {
        "colab": {
          "base_uri": "https://localhost:8080/"
        },
        "id": "MBzHBn7PSt93",
        "outputId": "8b9ec1ab-a9e2-4052-b453-e2872045caea"
      },
      "source": [
        "text = \"abcdefghijklmnopqqrstuvwxyz ABCDEFGHIJKLMNOPQRSTUVWXYZ 0123456789\"\n",
        "\n",
        "print(text.find('abc'))"
      ],
      "execution_count": 1,
      "outputs": [
        {
          "output_type": "stream",
          "text": [
            "0\n"
          ],
          "name": "stdout"
        }
      ]
    },
    {
      "cell_type": "code",
      "metadata": {
        "colab": {
          "base_uri": "https://localhost:8080/"
        },
        "id": "Dc6qBx1YWfty",
        "outputId": "1923a309-ea88-472e-dae4-d7a0112c8039"
      },
      "source": [
        "'''\n",
        "re package lets us create and match RE on strings\n",
        "'''\n",
        "\n",
        "import re\n",
        "\n",
        "text = \"abcdefghijklmnopqqrstuvwxyz ABCDEFGHIJKLMNOPQRSTUVWXYZ 0123456789\"\n",
        "\n",
        "# RE to search abc in the text \n",
        "\n",
        "'''\n",
        "Special characters . ^ $ * + ? { } [ ] \\ | ( )\n",
        "'''\n",
        "\n",
        "#regex = re.compile(r'abc') # this describes the RE. use r before the text to make sure python doesnt handle special characters differently \n",
        "#regex = re.compile(r'.') # searches for any character\n",
        "#regex = re.compile(r'\\d') # search for a digit\n",
        "#regex = re.compile(r'\\D') # search for a not a digit\n",
        "#regex = re.compile(r'\\w') # search for a word character like a-z , A-Z, 0-9, _\n",
        "#regex = re.compile(r'\\W') # search for a not a word\n",
        "#regex = re.compile(r'\\s') # search for a white space, tab, newline\n",
        "#regex = re.compile(r'\\S') # search for a not white space \n",
        "#regex = re.compile(r'\\babc') # search for a words starting with abc\n",
        "#regex = re.compile(r'\\Babc') # search for a words starting without abc word boundary\n",
        "#regex = re.compile(r'^abc') # search for abc at the start of the string \n",
        "regex = re.compile(r'789$') # search for 789 at the end of the string\n",
        "\n",
        "matches = regex.finditer(text)\n",
        "\n",
        "for match in matches:\n",
        "  print(match) # we get the index position of the match, we can see that search is case sensitive "
      ],
      "execution_count": 15,
      "outputs": [
        {
          "output_type": "stream",
          "text": [
            "<_sre.SRE_Match object; span=(62, 65), match='789'>\n"
          ],
          "name": "stdout"
        }
      ]
    },
    {
      "cell_type": "code",
      "metadata": {
        "colab": {
          "base_uri": "https://localhost:8080/"
        },
        "id": "smz-fN25Woi2",
        "outputId": "30748cf2-7433-4d5e-9bf2-330d2f18d5ab"
      },
      "source": [
        "from google.colab import drive\n",
        "drive.mount('/content/drive')"
      ],
      "execution_count": 19,
      "outputs": [
        {
          "output_type": "stream",
          "text": [
            "Mounted at /content/drive\n"
          ],
          "name": "stdout"
        }
      ]
    },
    {
      "cell_type": "code",
      "metadata": {
        "id": "yWiUA5uYbq6y"
      },
      "source": [
        "path = '/content/drive/MyDrive/datasets/re/'\n",
        "\n",
        "with open(path + 'data.txt') as file:\n",
        "  data = file.readlines()\n",
        "\n",
        "data = \"\".join(data)\n",
        "#print(data)"
      ],
      "execution_count": 39,
      "outputs": []
    },
    {
      "cell_type": "code",
      "metadata": {
        "colab": {
          "base_uri": "https://localhost:8080/"
        },
        "id": "AjyPkelMcEy_",
        "outputId": "c6f51712-ee2f-4814-a6f6-44cd6dd31beb"
      },
      "source": [
        "'''\n",
        "another way to use RE, using findall method \n",
        "findall finds all the matching entries \n",
        "'''\n",
        "\n",
        "#matches = re.findall(r'\\d\\d\\d.\\d\\d\\d.\\d\\d\\d\\d', data) # use . to match any seperator \n",
        "#matches = re.findall(r'\\d\\d\\d[-.]\\d\\d\\d[-.]\\d\\d\\d\\d', data) # use [-.] to match only - or . it is still matching a single character [] is called the character set\n",
        "#matches = re.findall(r'[^a-zA-Z]', text) # using ^ withing a character set, finds everything that is not either a-z or A-Z\n",
        "#matches = re.findall(r'[cmp]at', \"caterpillar is at the batter patrick matriculation bat\") # match only cat/pat/mat and not bat\n",
        "matches = re.findall(r'[^b]at', \"caterpillar is at the batter patrick matriculation bat\") # match only cat/pat/mat and not bat\n",
        "\n",
        "print(matches)"
      ],
      "execution_count": 44,
      "outputs": [
        {
          "output_type": "stream",
          "text": [
            "['cat', ' at', 'pat', 'mat', 'lat']\n"
          ],
          "name": "stdout"
        }
      ]
    },
    {
      "cell_type": "code",
      "metadata": {
        "colab": {
          "base_uri": "https://localhost:8080/"
        },
        "id": "5mYAop1coBPJ",
        "outputId": "f0bbc60b-b940-488f-a999-27251b243aad"
      },
      "source": [
        "'''\n",
        "* 0 or more\n",
        "+ 1 or more \n",
        "? o or one \n",
        "{3} excat number \n",
        "{3,4} range of numbers\n",
        "'''\n",
        "\n",
        "#matches = re.findall(r'\\d{3}.\\d{3}.\\d{4}', data) # using quantifiers mentioned above \n",
        "matches = re.findall(r'Sr\\.?', \"Sr. and Sr and Sr.s\") # here . is made optional using ?\n",
        "\n",
        "\n",
        "print(matches)"
      ],
      "execution_count": 47,
      "outputs": [
        {
          "output_type": "stream",
          "text": [
            "['Sr.', 'Sr', 'Sr.']\n"
          ],
          "name": "stdout"
        }
      ]
    }
  ]
}