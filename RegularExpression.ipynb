{
  "nbformat": 4,
  "nbformat_minor": 0,
  "metadata": {
    "colab": {
      "name": "RegularExpression.ipynb",
      "provenance": [],
      "collapsed_sections": [],
      "authorship_tag": "ABX9TyNpSQikXofsNlspqydPsWtg",
      "include_colab_link": true
    },
    "kernelspec": {
      "name": "python3",
      "display_name": "Python 3"
    }
  },
  "cells": [
    {
      "cell_type": "markdown",
      "metadata": {
        "id": "view-in-github",
        "colab_type": "text"
      },
      "source": [
        "<a href=\"https://colab.research.google.com/github/manjitullal/regularexpression/blob/main/RegularExpression.ipynb\" target=\"_parent\"><img src=\"https://colab.research.google.com/assets/colab-badge.svg\" alt=\"Open In Colab\"/></a>"
      ]
    },
    {
      "cell_type": "code",
      "metadata": {
        "colab": {
          "base_uri": "https://localhost:8080/"
        },
        "id": "MBzHBn7PSt93",
        "outputId": "c6426987-0931-482c-8a20-897224602185"
      },
      "source": [
        "text = \"abcdefghijklmnopqqrstuvwxyz ABCDEFGHIJKLMNOPQRSTUVWXYZ 0123456789\"\n",
        "\n",
        "print(text.find('abc'))"
      ],
      "execution_count": 2,
      "outputs": [
        {
          "output_type": "stream",
          "text": [
            "0\n"
          ],
          "name": "stdout"
        }
      ]
    },
    {
      "cell_type": "markdown",
      "metadata": {
        "id": "GWbluWbR-h2Z"
      },
      "source": [
        "# Get a sequence of DNA from below website \n",
        "https://www.bioinformatics.org/sms2/random_dna.html"
      ]
    },
    {
      "cell_type": "code",
      "metadata": {
        "colab": {
          "base_uri": "https://localhost:8080/"
        },
        "id": "ZjEo1u-OdjT_",
        "outputId": "8ce63fdd-e7d7-4c13-e154-e56ed36cb432"
      },
      "source": [
        "import textwrap\n",
        "\n",
        "dna = \"ggggaccgacagttcagtcacatccatctaggcaacccgacgtaagtccccagcatgggttgcagctaggaaatttaatcaatcagaccgtgaggagaaaaaagtatacaaaagataacgaccccggtgtccgttatactcgcggagagcggagaaaggaggtgccttcagctaggaaacaaccgtaggactccttgcaggatgaatgcgtattaacggtagcgtgtaaggggaactcgatgcggtctaactgatgcggtaatgggcctacttccgagtaccagagtgacactggttacccaaactaacttcggtggaccctgaacatatagtacccgcaaagatcttctaaaaccatttataagccccgttgtgggacctcataccaagcccctacaccttggaggacgctgcgttaccgccgttgtgtagcataatctcccttcggactctaagtgcaagtttgttgctgtgggctggtccccactctgagtgacttccgactcttccgtagtaggtaaggtctttggtggagaatagattaccgtctcgcaaggtaaagtggcccgagtcttttgcagatgttggtgaagtcaaaaacaccctattcgatcgcactcaatgacaccttccgtagtcgtgagtaaccgcggtaccctgcttaatgagaacgagctctcgcgacaacggacaaacatgccatacgctaggcttgcacgccagtggaatccgggaccgttcaaacaccatgcttacagggagagggttacattccctgcaaggtaaggagacacgagtttcattatacacggggaaatttggttatttacgttagaaggtcgtagaccattccgccctgcgaccttgcagacctggccactgtatcacatcggcaggtattgaattggacacccggctgcagaattaatggtaaacgaatcgctcgggaagtattagatgaagtatggtcatctaccctggctcgcaacggatcatacac\"\n",
        "print(textwrap.fill(dna))"
      ],
      "execution_count": 3,
      "outputs": [
        {
          "output_type": "stream",
          "text": [
            "ggggaccgacagttcagtcacatccatctaggcaacccgacgtaagtccccagcatgggttgcagctagg\n",
            "aaatttaatcaatcagaccgtgaggagaaaaaagtatacaaaagataacgaccccggtgtccgttatact\n",
            "cgcggagagcggagaaaggaggtgccttcagctaggaaacaaccgtaggactccttgcaggatgaatgcg\n",
            "tattaacggtagcgtgtaaggggaactcgatgcggtctaactgatgcggtaatgggcctacttccgagta\n",
            "ccagagtgacactggttacccaaactaacttcggtggaccctgaacatatagtacccgcaaagatcttct\n",
            "aaaaccatttataagccccgttgtgggacctcataccaagcccctacaccttggaggacgctgcgttacc\n",
            "gccgttgtgtagcataatctcccttcggactctaagtgcaagtttgttgctgtgggctggtccccactct\n",
            "gagtgacttccgactcttccgtagtaggtaaggtctttggtggagaatagattaccgtctcgcaaggtaa\n",
            "agtggcccgagtcttttgcagatgttggtgaagtcaaaaacaccctattcgatcgcactcaatgacacct\n",
            "tccgtagtcgtgagtaaccgcggtaccctgcttaatgagaacgagctctcgcgacaacggacaaacatgc\n",
            "catacgctaggcttgcacgccagtggaatccgggaccgttcaaacaccatgcttacagggagagggttac\n",
            "attccctgcaaggtaaggagacacgagtttcattatacacggggaaatttggttatttacgttagaaggt\n",
            "cgtagaccattccgccctgcgaccttgcagacctggccactgtatcacatcggcaggtattgaattggac\n",
            "acccggctgcagaattaatggtaaacgaatcgctcgggaagtattagatgaagtatggtcatctaccctg\n",
            "gctcgcaacggatcatacac\n"
          ],
          "name": "stdout"
        }
      ]
    },
    {
      "cell_type": "markdown",
      "metadata": {
        "id": "hDwPgLAr-xhT"
      },
      "source": [
        "# Regular Expressions"
      ]
    },
    {
      "cell_type": "markdown",
      "metadata": {
        "id": "mTevYHZ8FRPR"
      },
      "source": [
        "* using standard patterns"
      ]
    },
    {
      "cell_type": "code",
      "metadata": {
        "colab": {
          "base_uri": "https://localhost:8080/"
        },
        "id": "Dc6qBx1YWfty",
        "outputId": "6c9bf01e-2628-4f9a-f833-dad4fc36b00a"
      },
      "source": [
        "'''\n",
        "re package lets us create and match RE on strings\n",
        "'''\n",
        "\n",
        "import re\n",
        "\n",
        "text = \"abcdefghijklmnopqqrstuvwxyz ABCDEFGHIJKLMNOPQRSTUVWXYZ 0123456789\"\n",
        "\n",
        "# RE to search abc in the text \n",
        "\n",
        "'''\n",
        "Special characters . ^ $ * + ? { } [ ] \\ | ( )\n",
        "'''\n",
        "\n",
        "regex = re.compile(r'accc') # this describes the RE. use r before the text to make sure python doesnt handle special characters differently \n",
        "#regex = re.compile(r'.') # searches for any character\n",
        "#regex = re.compile(r'\\d') # search for a digit\n",
        "#regex = re.compile(r'\\D') # search for a not a digit\n",
        "#regex = re.compile(r'\\w') # search for a word character like a-z , A-Z, 0-9, _\n",
        "#regex = re.compile(r'\\W') # search for a not a word\n",
        "#regex = re.compile(r'\\s') # search for a white space, tab, newline\n",
        "#regex = re.compile(r'\\S') # search for a not white space \n",
        "#regex = re.compile(r'\\babc') # search for a words starting with abc\n",
        "#regex = re.compile(r'\\Babc') # search for a words starting without abc word boundary\n",
        "#regex = re.compile(r'^abc') # search for abc at the start of the string \n",
        "#regex = re.compile(r'789$') # search for 789 at the end of the string\n",
        "\n",
        "matches = regex.finditer(dna)\n",
        "\n",
        "for match in matches:\n",
        "  print(match) # we get the index position of the match, we can see that search is case sensitive "
      ],
      "execution_count": 4,
      "outputs": [
        {
          "output_type": "stream",
          "text": [
            "<_sre.SRE_Match object; span=(34, 38), match='accc'>\n",
            "<_sre.SRE_Match object; span=(120, 124), match='accc'>\n",
            "<_sre.SRE_Match object; span=(297, 301), match='accc'>\n",
            "<_sre.SRE_Match object; span=(317, 321), match='accc'>\n",
            "<_sre.SRE_Match object; span=(333, 337), match='accc'>\n",
            "<_sre.SRE_Match object; span=(601, 605), match='accc'>\n",
            "<_sre.SRE_Match object; span=(654, 658), match='accc'>\n",
            "<_sre.SRE_Match object; span=(910, 914), match='accc'>\n",
            "<_sre.SRE_Match object; span=(974, 978), match='accc'>\n"
          ],
          "name": "stdout"
        }
      ]
    },
    {
      "cell_type": "markdown",
      "metadata": {
        "id": "6AyDcMS2-5Er"
      },
      "source": [
        "# Pattern matching on DNA"
      ]
    },
    {
      "cell_type": "code",
      "metadata": {
        "colab": {
          "base_uri": "https://localhost:8080/",
          "height": 120
        },
        "id": "9qK7rhuAgqug",
        "outputId": "7d3b2667-e1aa-4156-a6bc-1795b71993e9"
      },
      "source": [
        "'''\n",
        "find the pattern and replace the begining and end with span tag to perform visualization\n",
        "really cool trick to visualize text in colab \n",
        "'''\n",
        "check_sequence = 'accc'\n",
        "toreplace = \"<span class='highlight' STYLE='color:blue;font-size: 250%; background: inherit;'>\\g<0></span>\"\n",
        "pattern = re.compile(re.escape(check_sequence), re.I)\n",
        "highlighted_txt = re.sub(pattern,toreplace,dna)\n",
        "highlighted_txt"
      ],
      "execution_count": null,
      "outputs": [
        {
          "output_type": "execute_result",
          "data": {
            "application/vnd.google.colaboratory.intrinsic+json": {
              "type": "string"
            },
            "text/plain": [
              "\"ggggaccgacagttcagtcacatccatctaggca<span class='highlight' STYLE='color:blue;font-size: 250%; background: inherit;'>accc</span>gacgtaagtccccagcatgggttgcagctaggaaatttaatcaatcagaccgtgaggagaaaaaagtatacaaaagataacg<span class='highlight' STYLE='color:blue;font-size: 250%; background: inherit;'>accc</span>cggtgtccgttatactcgcggagagcggagaaaggaggtgccttcagctaggaaacaaccgtaggactccttgcaggatgaatgcgtattaacggtagcgtgtaaggggaactcgatgcggtctaactgatgcggtaatgggcctacttccgagtaccagagtgacactggtt<span class='highlight' STYLE='color:blue;font-size: 250%; background: inherit;'>accc</span>aaactaacttcggtgg<span class='highlight' STYLE='color:blue;font-size: 250%; background: inherit;'>accc</span>tgaacatatagt<span class='highlight' STYLE='color:blue;font-size: 250%; background: inherit;'>accc</span>gcaaagatcttctaaaaccatttataagccccgttgtgggacctcataccaagcccctacaccttggaggacgctgcgttaccgccgttgtgtagcataatctcccttcggactctaagtgcaagtttgttgctgtgggctggtccccactctgagtgacttccgactcttccgtagtaggtaaggtctttggtggagaatagattaccgtctcgcaaggtaaagtggcccgagtcttttgcagatgttggtgaagtcaaaaac<span class='highlight' STYLE='color:blue;font-size: 250%; background: inherit;'>accc</span>tattcgatcgcactcaatgacaccttccgtagtcgtgagtaaccgcggt<span class='highlight' STYLE='color:blue;font-size: 250%; background: inherit;'>accc</span>tgcttaatgagaacgagctctcgcgacaacggacaaacatgccatacgctaggcttgcacgccagtggaatccgggaccgttcaaacaccatgcttacagggagagggttacattccctgcaaggtaaggagacacgagtttcattatacacggggaaatttggttatttacgttagaaggtcgtagaccattccgccctgcgaccttgcagacctggccactgtatcacatcggcaggtattgaattggac<span class='highlight' STYLE='color:blue;font-size: 250%; background: inherit;'>accc</span>ggctgcagaattaatggtaaacgaatcgctcgggaagtattagatgaagtatggtcatct<span class='highlight' STYLE='color:blue;font-size: 250%; background: inherit;'>accc</span>tggctcgcaacggatcatacac\""
            ]
          },
          "metadata": {
            "tags": []
          },
          "execution_count": 15
        }
      ]
    },
    {
      "cell_type": "code",
      "metadata": {
        "colab": {
          "base_uri": "https://localhost:8080/",
          "height": 80
        },
        "id": "8hOQdpDugxnn",
        "outputId": "7b5078ce-a102-4085-b275-c61c4ebd8b7f"
      },
      "source": [
        "import IPython\n",
        "IPython.display.HTML(highlighted_txt)"
      ],
      "execution_count": null,
      "outputs": [
        {
          "output_type": "execute_result",
          "data": {
            "text/html": [
              "ggggaccgacagttcagtcacatccatctaggca<span class='highlight' STYLE='color:blue;font-size: 250%; background: inherit;'>accc</span>gacgtaagtccccagcatgggttgcagctaggaaatttaatcaatcagaccgtgaggagaaaaaagtatacaaaagataacg<span class='highlight' STYLE='color:blue;font-size: 250%; background: inherit;'>accc</span>cggtgtccgttatactcgcggagagcggagaaaggaggtgccttcagctaggaaacaaccgtaggactccttgcaggatgaatgcgtattaacggtagcgtgtaaggggaactcgatgcggtctaactgatgcggtaatgggcctacttccgagtaccagagtgacactggtt<span class='highlight' STYLE='color:blue;font-size: 250%; background: inherit;'>accc</span>aaactaacttcggtgg<span class='highlight' STYLE='color:blue;font-size: 250%; background: inherit;'>accc</span>tgaacatatagt<span class='highlight' STYLE='color:blue;font-size: 250%; background: inherit;'>accc</span>gcaaagatcttctaaaaccatttataagccccgttgtgggacctcataccaagcccctacaccttggaggacgctgcgttaccgccgttgtgtagcataatctcccttcggactctaagtgcaagtttgttgctgtgggctggtccccactctgagtgacttccgactcttccgtagtaggtaaggtctttggtggagaatagattaccgtctcgcaaggtaaagtggcccgagtcttttgcagatgttggtgaagtcaaaaac<span class='highlight' STYLE='color:blue;font-size: 250%; background: inherit;'>accc</span>tattcgatcgcactcaatgacaccttccgtagtcgtgagtaaccgcggt<span class='highlight' STYLE='color:blue;font-size: 250%; background: inherit;'>accc</span>tgcttaatgagaacgagctctcgcgacaacggacaaacatgccatacgctaggcttgcacgccagtggaatccgggaccgttcaaacaccatgcttacagggagagggttacattccctgcaaggtaaggagacacgagtttcattatacacggggaaatttggttatttacgttagaaggtcgtagaccattccgccctgcgaccttgcagacctggccactgtatcacatcggcaggtattgaattggac<span class='highlight' STYLE='color:blue;font-size: 250%; background: inherit;'>accc</span>ggctgcagaattaatggtaaacgaatcgctcgggaagtattagatgaagtatggtcatct<span class='highlight' STYLE='color:blue;font-size: 250%; background: inherit;'>accc</span>tggctcgcaacggatcatacac"
            ],
            "text/plain": [
              "<IPython.core.display.HTML object>"
            ]
          },
          "metadata": {
            "tags": []
          },
          "execution_count": 16
        }
      ]
    },
    {
      "cell_type": "markdown",
      "metadata": {
        "id": "E455GarpAejh"
      },
      "source": [
        "# Pattern matching on text file "
      ]
    },
    {
      "cell_type": "code",
      "metadata": {
        "colab": {
          "base_uri": "https://localhost:8080/"
        },
        "id": "smz-fN25Woi2",
        "outputId": "30748cf2-7433-4d5e-9bf2-330d2f18d5ab"
      },
      "source": [
        "from google.colab import drive\n",
        "drive.mount('/content/drive')"
      ],
      "execution_count": null,
      "outputs": [
        {
          "output_type": "stream",
          "text": [
            "Mounted at /content/drive\n"
          ],
          "name": "stdout"
        }
      ]
    },
    {
      "cell_type": "code",
      "metadata": {
        "id": "yWiUA5uYbq6y"
      },
      "source": [
        "path = '/content/drive/MyDrive/datasets/re/'\n",
        "\n",
        "with open(path + 'data.txt') as file:\n",
        "  data = file.readlines()\n",
        "\n",
        "data = \"\".join(data)\n",
        "#print(data)"
      ],
      "execution_count": null,
      "outputs": []
    },
    {
      "cell_type": "markdown",
      "metadata": {
        "id": "Pee0iKidEj6F"
      },
      "source": [
        "* using character set"
      ]
    },
    {
      "cell_type": "code",
      "metadata": {
        "colab": {
          "base_uri": "https://localhost:8080/"
        },
        "id": "AjyPkelMcEy_",
        "outputId": "c6f51712-ee2f-4814-a6f6-44cd6dd31beb"
      },
      "source": [
        "'''\n",
        "another way to use RE, using findall method \n",
        "findall finds all the matching entries \n",
        "'''\n",
        "\n",
        "#matches = re.findall(r'\\d\\d\\d.\\d\\d\\d.\\d\\d\\d\\d', data) # use . to match any seperator \n",
        "#matches = re.findall(r'\\d\\d\\d[-.]\\d\\d\\d[-.]\\d\\d\\d\\d', data) # use [-.] to match only - or . it is still matching a single character [] is called the character set\n",
        "#matches = re.findall(r'[^a-zA-Z]', text) # using ^ withing a character set, finds everything that is not either a-z or A-Z\n",
        "#matches = re.findall(r'[cmp]at', \"caterpillar is at the batter patrick matriculation bat\") # match only cat/pat/mat and not bat\n",
        "matches = re.findall(r'[^b]at', \"caterpillar is at the batter patrick matriculation bat\") # match only cat/pat/mat and not bat\n",
        "\n",
        "print(matches)"
      ],
      "execution_count": null,
      "outputs": [
        {
          "output_type": "stream",
          "text": [
            "['cat', ' at', 'pat', 'mat', 'lat']\n"
          ],
          "name": "stdout"
        }
      ]
    },
    {
      "cell_type": "markdown",
      "metadata": {
        "id": "W83Ok3pYFEQe"
      },
      "source": [
        "* using quantifiers"
      ]
    },
    {
      "cell_type": "code",
      "metadata": {
        "colab": {
          "base_uri": "https://localhost:8080/"
        },
        "id": "5mYAop1coBPJ",
        "outputId": "1f7e88b2-b261-461e-a7af-ef6adc076b29"
      },
      "source": [
        "'''\n",
        "* 0 or more\n",
        "+ 1 or more \n",
        "? o or one \n",
        "{3} excat number \n",
        "{3,4} range of numbers\n",
        "'''\n",
        "\n",
        "stext = \"Sr. and Sr and Sr.s\"\n",
        "#matches = re.findall(r'\\d{3}.\\d{3}.\\d{4}', data) # using quantifiers mentioned above \n",
        "matches = re.findall(r'Sr\\.?', stext) # here . is made optional using ?\n",
        "\n",
        "print(matches)"
      ],
      "execution_count": null,
      "outputs": [
        {
          "output_type": "stream",
          "text": [
            "['Sr.', 'Sr', 'Sr.']\n"
          ],
          "name": "stdout"
        }
      ]
    },
    {
      "cell_type": "code",
      "metadata": {
        "colab": {
          "base_uri": "https://localhost:8080/"
        },
        "id": "Jl6ICV11FdGX",
        "outputId": "dbc82314-5f3e-43a7-bee5-61dfeb00390e"
      },
      "source": [
        "text = \"Mr. Adam, Mr Smith, Mr David, Mrs. Sally, Mr. T, Mr. Apple\"\n",
        "\n",
        "\"\"\"\n",
        "match \"Mr\" regardless of whether there is dot or no\n",
        "then also match the Name after match\n",
        "Name has to begin with Capital letter and can have zero or more characters\n",
        "\"\"\"\n",
        "\n",
        "matches = re.findall(r'Mr\\.?\\s[A-Z]\\w*', text)\n",
        "print(matches)"
      ],
      "execution_count": null,
      "outputs": [
        {
          "output_type": "stream",
          "text": [
            "['Mr. Adam', 'Mr Smith', 'Mr David', 'Mr. T', 'Mr. Apple']\n"
          ],
          "name": "stdout"
        }
      ]
    },
    {
      "cell_type": "markdown",
      "metadata": {
        "id": "nDhMRcuIHfmJ"
      },
      "source": [
        "* using groups, match multiple pattern for same text"
      ]
    },
    {
      "cell_type": "code",
      "metadata": {
        "colab": {
          "base_uri": "https://localhost:8080/",
          "height": 137
        },
        "id": "rejFbwppIeYn",
        "outputId": "cc29c914-681d-4a31-80b7-f3c7f4783f12"
      },
      "source": [
        "\"\"\"\n",
        "groups allow us to match several different patterns\n",
        "\"\"\"\n",
        "\n",
        "text = \"Mr. Adam, Mr Smith, Mr David, Mrs. Sally, Mr. T, Mr. Apple\"\n",
        "\n",
        "\"\"\"\n",
        "match \"Mr\" regardless of whether there is dot or no\n",
        "then also match the Name after match\n",
        "Name has to begin with Capital letter and can have zero or more characters\n",
        "\"\"\"\n",
        "\n",
        "pattern = re.compile(r'(Mr|Ms|Mrs)\\.?\\s[A-Z]\\w*')\n",
        "matches = pattern.finditer(text)\n",
        "\n",
        "for match in matches:\n",
        "  print(match)\n",
        "\n",
        "# matches = re.findall(r'M(r|s|rs)\\.?\\s[A-Z]\\w*', text)\n",
        "# print(matches)\n",
        "\n",
        "#>>['r', 'r', 'r', 'rs', 'r', 'r']\n",
        "'''\n",
        "groups work differently with compile and findall method\n",
        "same pattern gives two different output\n",
        "'''"
      ],
      "execution_count": 5,
      "outputs": [
        {
          "output_type": "stream",
          "text": [
            "<_sre.SRE_Match object; span=(0, 8), match='Mr. Adam'>\n",
            "<_sre.SRE_Match object; span=(10, 18), match='Mr Smith'>\n",
            "<_sre.SRE_Match object; span=(20, 28), match='Mr David'>\n",
            "<_sre.SRE_Match object; span=(30, 40), match='Mrs. Sally'>\n",
            "<_sre.SRE_Match object; span=(42, 47), match='Mr. T'>\n",
            "<_sre.SRE_Match object; span=(49, 58), match='Mr. Apple'>\n"
          ],
          "name": "stdout"
        },
        {
          "output_type": "execute_result",
          "data": {
            "application/vnd.google.colaboratory.intrinsic+json": {
              "type": "string"
            },
            "text/plain": [
              "'\\ngroups work differently with compile and findall method\\nsame pattern gives two different output\\n'"
            ]
          },
          "metadata": {
            "tags": []
          },
          "execution_count": 5
        }
      ]
    },
    {
      "cell_type": "markdown",
      "metadata": {
        "id": "amzpFUeKdnwu"
      },
      "source": [
        "# pattern to find emails"
      ]
    },
    {
      "cell_type": "code",
      "metadata": {
        "colab": {
          "base_uri": "https://localhost:8080/"
        },
        "id": "qzd7wWX5doFa",
        "outputId": "48f4ce92-7cbe-48df-ff42-9a4f0b15ddb6"
      },
      "source": [
        "emails = 'AdamSandler@gmail.com, Brad.Wilk@northeastern.edu, MichealJordon@chicagobulls.net'\n",
        "\n",
        "#pattern = re.compile(r'\\w+@\\w+\\.\\w{3}')\n",
        "pattern = re.compile(r'[a-zA-Z0-9.-]+@[a-zA-Z-]+\\.(com|edu|net)')\n",
        "matches = pattern.finditer(emails)\n",
        "for match in matches:\n",
        "  print(match)"
      ],
      "execution_count": 20,
      "outputs": [
        {
          "output_type": "stream",
          "text": [
            "<_sre.SRE_Match object; span=(0, 21), match='AdamSandler@gmail.com'>\n",
            "<_sre.SRE_Match object; span=(23, 49), match='Brad.Wilk@northeastern.edu'>\n",
            "<_sre.SRE_Match object; span=(51, 81), match='MichealJordon@chicagobulls.net'>\n"
          ],
          "name": "stdout"
        }
      ]
    },
    {
      "cell_type": "markdown",
      "metadata": {
        "id": "scZ3jB4VhS4M"
      },
      "source": [
        "# pattern to find domain name"
      ]
    },
    {
      "cell_type": "code",
      "metadata": {
        "colab": {
          "base_uri": "https://localhost:8080/"
        },
        "id": "N3qOAmCdhcTH",
        "outputId": "bdd50bb9-ce60-413c-b23b-d7eb671c5c4d"
      },
      "source": [
        "'''\n",
        "we have 3 groups in the pattern, so we can view these groups\n",
        "group(0) all groups\n",
        "group(1) first optional group\n",
        "group(2) is the domain name\n",
        "group(3) is the siffix of domain\n",
        "'''\n",
        "\n",
        "urls = 'https://www.google.com, http://paypal.com, https://youtube.com, https://www.nasa.gov'\n",
        "\n",
        "#pattern = re.compile(r\"\\.?[a-zA-Z]+\\.\")\n",
        "#pattern = re.compile(r\"https?:\\/\\/w*\\.?[a-zA-Z]+\")\n",
        "pattern = re.compile(r'https?://(www\\.)?(?P<domain>\\w+)(\\.\\w+)')\n",
        "\n",
        "# matches = pattern.finditer(urls)\n",
        "# for match in matches:\n",
        "#   print(match.group(3))\n",
        "\n",
        "'''\n",
        "we can use sub method to find the pattern and then output only the groups\n",
        "'''\n",
        "\n",
        "subbed_urls = pattern.sub(r'\\2\\3', urls)\n",
        "print(subbed_urls)"
      ],
      "execution_count": 9,
      "outputs": [
        {
          "output_type": "stream",
          "text": [
            "google.com, paypal.com, youtube.com, nasa.gov\n"
          ],
          "name": "stdout"
        }
      ]
    },
    {
      "cell_type": "markdown",
      "metadata": {
        "id": "S-V1WNPXoRbN"
      },
      "source": [
        "* using match, match only finds a match at the begining of the string and None if there is no match. It finds the first match."
      ]
    },
    {
      "cell_type": "code",
      "metadata": {
        "colab": {
          "base_uri": "https://localhost:8080/"
        },
        "id": "OrkWlLpVobkV",
        "outputId": "f2e552bd-e377-411d-cfd1-fd65823608ab"
      },
      "source": [
        "sentence = \"start a sentence and then the end\"\n",
        "\n",
        "pattern = re.compile('and')\n",
        "matches = pattern.match(sentence)\n",
        "print(matches)"
      ],
      "execution_count": 48,
      "outputs": [
        {
          "output_type": "stream",
          "text": [
            "None\n"
          ],
          "name": "stdout"
        }
      ]
    },
    {
      "cell_type": "markdown",
      "metadata": {
        "id": "TAL4QthtoyID"
      },
      "source": [
        "* using search, It finds the first match."
      ]
    },
    {
      "cell_type": "code",
      "metadata": {
        "colab": {
          "base_uri": "https://localhost:8080/"
        },
        "id": "ZjSSVnhfo0Tc",
        "outputId": "27c1337f-1b65-47bd-e2cf-69a81e7a28bb"
      },
      "source": [
        "sentence = \"start a sentence and then the end\"\n",
        "\n",
        "pattern = re.compile('and')\n",
        "matches = pattern.search(sentence)\n",
        "print(matches)"
      ],
      "execution_count": 49,
      "outputs": [
        {
          "output_type": "stream",
          "text": [
            "<_sre.SRE_Match object; span=(17, 20), match='and'>\n"
          ],
          "name": "stdout"
        }
      ]
    },
    {
      "cell_type": "markdown",
      "metadata": {
        "id": "XX0DDmVCYvRB"
      },
      "source": [
        "* name the group but works only for match and search method which finds only the first match"
      ]
    },
    {
      "cell_type": "code",
      "metadata": {
        "colab": {
          "base_uri": "https://localhost:8080/",
          "height": 35
        },
        "id": "LBksEtjiYmYX",
        "outputId": "9b985a82-428b-4bd9-9a5a-f32b0676b150"
      },
      "source": [
        "m = re.match(r'(?P<first>\\w+) (?P<last>\\w+)', 'Jane Doe')\n",
        "m.group('first')"
      ],
      "execution_count": 27,
      "outputs": [
        {
          "output_type": "execute_result",
          "data": {
            "application/vnd.google.colaboratory.intrinsic+json": {
              "type": "string"
            },
            "text/plain": [
              "'Jane'"
            ]
          },
          "metadata": {
            "tags": []
          },
          "execution_count": 27
        }
      ]
    },
    {
      "cell_type": "markdown",
      "metadata": {
        "id": "EI_gs3iNpSfo"
      },
      "source": [
        "* Ignore case while searching"
      ]
    },
    {
      "cell_type": "code",
      "metadata": {
        "colab": {
          "base_uri": "https://localhost:8080/"
        },
        "id": "w8GlJOdApWKr",
        "outputId": "a701f8fc-3cfa-4b63-b3db-eb62148c0847"
      },
      "source": [
        "sentence = \"Start a sentence and then the end\"\n",
        "\n",
        "#pattern = re.compile('start', re.IGNORECASE)\n",
        "pattern = re.compile('start', re.I)\n",
        "matches = pattern.search(sentence)\n",
        "print(matches)"
      ],
      "execution_count": 52,
      "outputs": [
        {
          "output_type": "stream",
          "text": [
            "<_sre.SRE_Match object; span=(0, 5), match='Start'>\n"
          ],
          "name": "stdout"
        }
      ]
    },
    {
      "cell_type": "markdown",
      "metadata": {
        "id": "uKhBs9BZtVRl"
      },
      "source": [
        "# pattern to test a password"
      ]
    },
    {
      "cell_type": "code",
      "metadata": {
        "colab": {
          "base_uri": "https://localhost:8080/"
        },
        "id": "uBkdZMSHtYaH",
        "outputId": "db1ade33-6be3-4909-8aa0-f32379f476ee"
      },
      "source": [
        "'''\n",
        "fullmatch function makes sure that all the pattern is matched in the string compared to matching some\n",
        "'''\n",
        "\n",
        "import re\n",
        "#password = \"Manjit\"\n",
        "password = \"Godfather2#\"\n",
        "if re.fullmatch(r'[A-Za-z0-9@#$%^&+=]{8,}', password):\n",
        "    print('Valid')\n",
        "else:\n",
        "    print('Invalid')"
      ],
      "execution_count": 63,
      "outputs": [
        {
          "output_type": "stream",
          "text": [
            "Valid\n"
          ],
          "name": "stdout"
        }
      ]
    },
    {
      "cell_type": "markdown",
      "metadata": {
        "id": "lgb5R5DTU3By"
      },
      "source": [
        "# Find all adverbs"
      ]
    },
    {
      "cell_type": "code",
      "metadata": {
        "colab": {
          "base_uri": "https://localhost:8080/"
        },
        "id": "92eYj-5GUtfa",
        "outputId": "f6cb62db-6146-456b-820d-19d8e2ac531a"
      },
      "source": [
        "text = \"He was carefully disguised but captured quickly by police.\"\n",
        "re.findall(r\"\\w+ly\", text)"
      ],
      "execution_count": 5,
      "outputs": [
        {
          "output_type": "execute_result",
          "data": {
            "text/plain": [
              "['carefully', 'quickly']"
            ]
          },
          "metadata": {
            "tags": []
          },
          "execution_count": 5
        }
      ]
    },
    {
      "cell_type": "markdown",
      "metadata": {
        "id": "AP6w0OgXWJew"
      },
      "source": [
        "# More example on substitution"
      ]
    },
    {
      "cell_type": "code",
      "metadata": {
        "colab": {
          "base_uri": "https://localhost:8080/",
          "height": 35
        },
        "id": "8KngMgTdUvYO",
        "outputId": "8840c513-770c-4a32-d6e7-f1a06658404f"
      },
      "source": [
        "'''\n",
        "substitue blue or white or red by colour \n",
        "'''\n",
        "\n",
        "p = re.compile('(blue|white|red)')\n",
        "p.sub('colour', 'blue socks and red shoes')"
      ],
      "execution_count": 7,
      "outputs": [
        {
          "output_type": "execute_result",
          "data": {
            "application/vnd.google.colaboratory.intrinsic+json": {
              "type": "string"
            },
            "text/plain": [
              "'colour socks and colour shoes'"
            ]
          },
          "metadata": {
            "tags": []
          },
          "execution_count": 7
        }
      ]
    },
    {
      "cell_type": "code",
      "metadata": {
        "colab": {
          "base_uri": "https://localhost:8080/"
        },
        "id": "3RNkbpjFWnED",
        "outputId": "627ae6cd-651e-4611-e125-5ed901b39c27"
      },
      "source": [
        "m = re.match(r'(?P<first>\\w+) (?P<last>\\w+)', 'Jane Doe')\n",
        "m.groupdict()"
      ],
      "execution_count": 8,
      "outputs": [
        {
          "output_type": "execute_result",
          "data": {
            "text/plain": [
              "{'first': 'Jane', 'last': 'Doe'}"
            ]
          },
          "metadata": {
            "tags": []
          },
          "execution_count": 8
        }
      ]
    },
    {
      "cell_type": "code",
      "metadata": {
        "id": "gHgRxoBCWvyx"
      },
      "source": [
        ""
      ],
      "execution_count": null,
      "outputs": []
    }
  ]
}